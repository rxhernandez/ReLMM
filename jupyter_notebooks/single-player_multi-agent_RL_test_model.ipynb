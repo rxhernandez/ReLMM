{
 "cells": [
  {
   "cell_type": "code",
   "execution_count": 1,
   "id": "1dd3933a-cd58-4074-9fa9-f9a9ec18b6dd",
   "metadata": {},
   "outputs": [],
   "source": [
    "import numpy as np\n",
    "import pandas as pd\n",
    "import os\n",
    "import json\n",
    "import torch\n",
    "import torch.nn as nn\n",
    "import torch.optim as optim\n",
    "from sklearn.model_selection import train_test_split\n",
    "\n",
    "# User defined files and classes\n",
    "import sys\n",
    "from read_data import inputs\n",
    "import utils_dataset as utilsd\n",
    "from environment import Environment\n",
    "from qlearning import QNetwork\n",
    "from predictor_models import predictor_models"
   ]
  },
  {
   "cell_type": "code",
   "execution_count": null,
   "id": "08ed81dc-10bc-475f-96a5-a8de8435eaf6",
   "metadata": {},
   "outputs": [],
   "source": []
  },
  {
   "cell_type": "code",
   "execution_count": 2,
   "id": "3771a5d8-ccfd-41cd-9983-ad90a1e0aaea",
   "metadata": {},
   "outputs": [
    {
     "name": "stdout",
     "output_type": "stream",
     "text": [
      "Reading data for the input dataset type:  Gryffin\n",
      "This class contains the predictor models to generate rewards for agents\n"
     ]
    }
   ],
   "source": [
    "## Main Function\n",
    "\n",
    "# Reading the input json file with dataset filename and path information\n",
    "with open('inputs.json', \"r\") as f:\n",
    "    input_dict = json.load(f)\n",
    "\n",
    "run_folder = input_dict['RunFolder']\n",
    "input_type = input_dict['InputType']\n",
    "input_path = input_dict['InputPath']\n",
    "input_file = input_dict['InputFile']\n",
    "output_dir = input_dict['OutputDirectory']\n",
    "\n",
    "# Create a new output directory if it does not exist\n",
    "isExist = os.path.exists(output_dir)\n",
    "if not isExist:\n",
    "    os.makedirs(output_dir)\n",
    "    print(\"The new directory is created!\", output_dir)\n",
    "\n",
    "input_data = inputs(input_type=input_type,\n",
    "                           input_path=input_path,\n",
    "                           input_file=input_file)\n",
    "\n",
    "X_data, Y_data, descriptors = input_data.read_inputs()\n",
    "X_stand, X_stand_df, scalerX = utilsd.standardize_data(X_data)\n",
    "Y_stand, Y_stand_df, scalerY = utilsd.standardize_data(pd.DataFrame({'target':Y_data[:,0]}))\n",
    "X_stand, X_test_stand_df, Y_stand, Y_test_stand_df = train_test_split(X_stand_df, Y_stand_df, test_size=0.1, random_state=0)\n",
    "\n",
    "#---- Uncomment for synthetic dataset\n",
    "# test_file = input_dict['TestFile']\n",
    "# input_data2 = inputs(input_type=input_type,\n",
    "#                            input_path=input_path,\n",
    "#                            input_file=test_file)\n",
    "# X_testdata, Y_testdata, descriptors_test = input_data2.read_inputs()\n",
    "# X_test_stand = scalerX.transform(X_testdata)\n",
    "# X_test_stand_df = pd.DataFrame(X_test_stand, columns=X_stand_df.columns)\n",
    "# Y_test_stand_df = pd.DataFrame(scalerY.transform(pd.DataFrame({'target':Y_testdata[:,0]})), columns=Y_stand_df.columns)\n",
    "\n",
    "# Dataset parameters\n",
    "total_num_features = len(descriptors)\n",
    "\n",
    "# Environment parameters\n",
    "state_size = total_num_features  # Size of the state space\n",
    "N_agents = total_num_features # Number of agents\n",
    "action_size = 2  # Number of possible actions\n",
    "N_steps = 100 # Number of steps to take per episode\n",
    "predictor_model = predictor_models()\n",
    "\n",
    "# Hyperparameters\n",
    "epsilon = 1.0  # Exploration rate\n",
    "epsilon_decay = 0.995  # Decay rate of exploration\n",
    "gamma = 0.95  # Discount factor\n",
    "learning_rate = 0.001\n",
    "\n",
    "# Initialize environment and Q-networks for each agent\n",
    "env = Environment(state_size,action_size,N_agents,N_steps)\n",
    "agent_model = {}\n",
    "agent_optimizer = {}\n",
    "agent_qvalue = {}\n",
    "\n",
    "for i_agent in range(N_agents):\n",
    "    model_name = 'agent'+str(i_agent)+'_model'\n",
    "    saveModel_filename = output_dir+model_name+'.pt'\n",
    "    optimizer_name = 'agent'+str(i_agent)+'_optimizer'\n",
    "    agent_model[model_name] = QNetwork(env.state_size, env.action_size)\n",
    "    agent_optimizer[optimizer_name] = optim.Adam(agent_model[model_name].parameters(), lr=learning_rate)\n",
    "    agent_model[model_name].load_state_dict(torch.load(saveModel_filename))\n"
   ]
  },
  {
   "cell_type": "code",
   "execution_count": null,
   "id": "ce1a2339-18fd-49f3-b6a6-e2489f959719",
   "metadata": {},
   "outputs": [],
   "source": []
  },
  {
   "cell_type": "code",
   "execution_count": 3,
   "id": "b26530d9-7a41-4ac5-805b-92abbcd373d5",
   "metadata": {},
   "outputs": [
    {
     "name": "stdout",
     "output_type": "stream",
     "text": [
      "Test Total Rewards: [1362.03502408 1362.03502408 1362.03502408 1362.03502408 1362.03502408\n",
      " 1362.03502408 1362.03502408 1362.03502408 1362.03502408 1362.03502408\n",
      " 1362.03502408 1362.03502408 1362.03502408 1362.03502408], state: [0 0 0 1 1 0 1 1 1 1 1 1 1 0]\n"
     ]
    }
   ],
   "source": [
    "# Testing the trained agents\n",
    "state = env.reset()\n",
    "total_rewards = np.zeros(N_agents)\n",
    "\n",
    "while True:\n",
    "    with torch.no_grad():\n",
    "        actions_list = []\n",
    "        for i_agent in range(N_agents):\n",
    "            model_name = 'agent'+str(i_agent)+'_model'\n",
    "            q_values = agent_model[model_name](torch.tensor(state, dtype=torch.float32))\n",
    "            actions_list.append(torch.argmax(q_values).item())        \n",
    "        actions = np.array(actions_list)\n",
    "\n",
    "    next_state, done = env.step(actions)\n",
    "    rewards, feature_importance_dict_rl, mse_rl = env.get_rewards_test(predictor_model,X_test_stand_df,Y_test_stand_df)    \n",
    "    total_rewards += rewards  \n",
    "    state = next_state\n",
    "\n",
    "    if done:\n",
    "        break\n",
    "\n",
    "importance_df_rl = pd.DataFrame.from_dict(data=feature_importance_dict_rl, orient='index')\n",
    "# importance_df_rl.to_csv(output_dir+'rl_test.csv')\n",
    "mse_test_rl = pd.DataFrame(data=[mse_rl], columns=['RL MSE'])\n",
    "# mse_test_rl.to_csv(output_dir+'mse_rl_test.csv')\n",
    "print(f\"Test Total Rewards: {total_rewards}, state: {state}\")\n"
   ]
  },
  {
   "cell_type": "code",
   "execution_count": 4,
   "id": "3761c046-d58a-4111-aa7b-3f008ce0411d",
   "metadata": {},
   "outputs": [
    {
     "data": {
      "text/plain": [
       "0.07341955106308268"
      ]
     },
     "execution_count": 4,
     "metadata": {},
     "output_type": "execute_result"
    }
   ],
   "source": [
    "mse_rl"
   ]
  },
  {
   "cell_type": "code",
   "execution_count": 5,
   "id": "1a7aac06-91f5-486b-83ea-55f1233538f3",
   "metadata": {},
   "outputs": [
    {
     "data": {
      "text/html": [
       "<div>\n",
       "<style scoped>\n",
       "    .dataframe tbody tr th:only-of-type {\n",
       "        vertical-align: middle;\n",
       "    }\n",
       "\n",
       "    .dataframe tbody tr th {\n",
       "        vertical-align: top;\n",
       "    }\n",
       "\n",
       "    .dataframe thead th {\n",
       "        text-align: right;\n",
       "    }\n",
       "</style>\n",
       "<table border=\"1\" class=\"dataframe\">\n",
       "  <thead>\n",
       "    <tr style=\"text-align: right;\">\n",
       "      <th></th>\n",
       "      <th>0</th>\n",
       "    </tr>\n",
       "  </thead>\n",
       "  <tbody>\n",
       "    <tr>\n",
       "      <th>organic-homo</th>\n",
       "      <td>0.000000</td>\n",
       "    </tr>\n",
       "    <tr>\n",
       "      <th>organic-lumo</th>\n",
       "      <td>0.000000</td>\n",
       "    </tr>\n",
       "    <tr>\n",
       "      <th>organic-dipole</th>\n",
       "      <td>0.000000</td>\n",
       "    </tr>\n",
       "    <tr>\n",
       "      <th>organic-atomization</th>\n",
       "      <td>0.093922</td>\n",
       "    </tr>\n",
       "    <tr>\n",
       "      <th>organic-r_gyr</th>\n",
       "      <td>0.297415</td>\n",
       "    </tr>\n",
       "    <tr>\n",
       "      <th>organic-total_mass</th>\n",
       "      <td>0.000000</td>\n",
       "    </tr>\n",
       "    <tr>\n",
       "      <th>anion-electron_affinity</th>\n",
       "      <td>0.228656</td>\n",
       "    </tr>\n",
       "    <tr>\n",
       "      <th>anion-ionization_energy</th>\n",
       "      <td>1.044831</td>\n",
       "    </tr>\n",
       "    <tr>\n",
       "      <th>anion-mass</th>\n",
       "      <td>0.000000</td>\n",
       "    </tr>\n",
       "    <tr>\n",
       "      <th>anion-electronegativity</th>\n",
       "      <td>0.000000</td>\n",
       "    </tr>\n",
       "    <tr>\n",
       "      <th>cation-electron_affinity</th>\n",
       "      <td>0.119015</td>\n",
       "    </tr>\n",
       "    <tr>\n",
       "      <th>cation-ionization_energy</th>\n",
       "      <td>0.040682</td>\n",
       "    </tr>\n",
       "    <tr>\n",
       "      <th>cation-mass</th>\n",
       "      <td>0.000000</td>\n",
       "    </tr>\n",
       "    <tr>\n",
       "      <th>cation-electronegativity</th>\n",
       "      <td>0.000000</td>\n",
       "    </tr>\n",
       "  </tbody>\n",
       "</table>\n",
       "</div>"
      ],
      "text/plain": [
       "                                 0\n",
       "organic-homo              0.000000\n",
       "organic-lumo              0.000000\n",
       "organic-dipole            0.000000\n",
       "organic-atomization       0.093922\n",
       "organic-r_gyr             0.297415\n",
       "organic-total_mass        0.000000\n",
       "anion-electron_affinity   0.228656\n",
       "anion-ionization_energy   1.044831\n",
       "anion-mass                0.000000\n",
       "anion-electronegativity   0.000000\n",
       "cation-electron_affinity  0.119015\n",
       "cation-ionization_energy  0.040682\n",
       "cation-mass               0.000000\n",
       "cation-electronegativity  0.000000"
      ]
     },
     "execution_count": 5,
     "metadata": {},
     "output_type": "execute_result"
    }
   ],
   "source": [
    "importance_df_rl"
   ]
  },
  {
   "cell_type": "code",
   "execution_count": null,
   "id": "a5e95b7f-647d-427e-9909-baa147bb2dec",
   "metadata": {},
   "outputs": [],
   "source": []
  }
 ],
 "metadata": {
  "kernelspec": {
   "display_name": "Python 3 (ipykernel)",
   "language": "python",
   "name": "python3"
  },
  "language_info": {
   "codemirror_mode": {
    "name": "ipython",
    "version": 3
   },
   "file_extension": ".py",
   "mimetype": "text/x-python",
   "name": "python",
   "nbconvert_exporter": "python",
   "pygments_lexer": "ipython3",
   "version": "3.11.2"
  }
 },
 "nbformat": 4,
 "nbformat_minor": 5
}
