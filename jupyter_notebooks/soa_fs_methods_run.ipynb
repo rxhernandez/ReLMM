{
 "cells": [
  {
   "cell_type": "code",
   "execution_count": null,
   "id": "8cfc2c24-498e-470d-885d-e280932b21ec",
   "metadata": {},
   "outputs": [],
   "source": [
    "import os\n",
    "\n",
    "import pandas as pd\n",
    "# Plotting libraries\n",
    "import matplotlib as mpl\n",
    "import matplotlib.pyplot as plt\n",
    "%matplotlib inline\n",
    "%load_ext autoreload\n",
    "%autoreload 2\n",
    "\n",
    "# User defined files and classes\n",
    "os.sys.path.append('../')\n",
    "from src.ReLMM.read_data import Inputs\n",
    "import src.ReLMM.utils_dataset as utilsd\n",
    "from src.ReLMM.soa_feature_selectors import SOAFeatureSelectors\n",
    "\n",
    "# Tick parameters\n",
    "# Plotting parameters\n",
    "plt.rcParams.update({\n",
    "\"text.usetex\":True,\n",
    "\"font.family\":\"serif\",\n",
    "\"font.serif\":[\"Computer Modern Roman\"]})\n",
    "plt.rcParams['xtick.labelsize'] = 12\n",
    "plt.rcParams['ytick.labelsize'] = 12\n",
    "plt.rcParams['axes.labelsize'] = 12\n",
    "plt.rcParams['axes.titlesize'] = 12\n",
    "plt.rcParams['xtick.major.size'] = 5\n",
    "plt.rcParams['xtick.major.width'] = 1\n",
    "plt.rcParams['xtick.minor.size'] = 3\n",
    "plt.rcParams['xtick.minor.width'] = 1\n",
    "plt.rcParams['ytick.major.size'] = 5\n",
    "plt.rcParams['ytick.major.width'] = 1\n",
    "plt.rcParams['ytick.minor.size'] = 3\n",
    "plt.rcParams['ytick.minor.width'] = 1"
   ]
  },
  {
   "cell_type": "code",
   "execution_count": null,
   "id": "f890fe8c-9d39-4ce9-8a85-a774dd9d6391",
   "metadata": {},
   "outputs": [],
   "source": [
    "input_type='SynthData'\n",
    "input_path='../synthetic_dataset'\n",
    "input_file='synthetic_data_randomSamples_200_nonlinearf5.csv' \n",
    "output_dir='../output'\n",
    "file_name_prefix=input_file.split('.csv')[0] \n",
    "\n",
    "if not os.path.exists(output_dir):\n",
    "    os.makedirs(output_dir)\n",
    "\n",
    "input_data = Inputs(input_type=input_type,\n",
    "                    input_path=input_path,\n",
    "                    input_file=input_file)\n",
    "\n",
    "x_data, y_data, descriptors = input_data.read_inputs()\n",
    "x_stand_DT, x_stand_DT_df, scalerX = utilsd.standardize_data(x_data)\n",
    "y_stand_DT, y_stand_DT_df, scalerY = utilsd.standardize_data(pd.DataFrame({'target':y_data[:,0]}))\n",
    "\n",
    "methods = SOAFeatureSelectors(x_stand_DT, y_stand_DT, random_state=40)\n",
    "\n",
    "feature_importance_dict_xgboost, importance_df_xgboost, mse_test_xgboost = methods.xgboost(descriptors, save_fig=True, fig_name=f'{output_dir}/{file_name_prefix}_xgboost.pdf')\n",
    "feature_importance_dict_lasso, importance_df_lasso, mse_test_lasso = methods.lasso(descriptors, save_fig=True, fig_name=f'{output_dir}/{file_name_prefix}_lasso.pdf')\n",
    "\n",
    "print(f' MSE XGBoost : {mse_test_xgboost}')\n",
    "print(f' MSE LASSO : {mse_test_lasso}')\n",
    "mse_df = pd.DataFrame([[mse_test_xgboost,mse_test_lasso]],columns=['MSE_xgboost','MSE_lasso'])\n",
    "importance_df_xgboost.to_csv(f'{output_dir}/{file_name_prefix}_xgboost.csv')\n",
    "importance_df_lasso.to_csv(f'{output_dir}/{file_name_prefix}_lasso.csv')\n",
    "mse_df.to_csv(f'{output_dir}/{file_name_prefix}_soa_mse.csv')"
   ]
  },
  {
   "cell_type": "code",
   "execution_count": null,
   "id": "ef0e145a",
   "metadata": {},
   "outputs": [],
   "source": []
  }
 ],
 "metadata": {
  "kernelspec": {
   "display_name": "Python 3 (ipykernel)",
   "language": "python",
   "name": "python3"
  },
  "language_info": {
   "codemirror_mode": {
    "name": "ipython",
    "version": 3
   },
   "file_extension": ".py",
   "mimetype": "text/x-python",
   "name": "python",
   "nbconvert_exporter": "python",
   "pygments_lexer": "ipython3",
   "version": "3.8.11"
  }
 },
 "nbformat": 4,
 "nbformat_minor": 5
}
