{
 "cells": [
  {
   "cell_type": "code",
   "execution_count": 1,
   "id": "1dd3933a-cd58-4074-9fa9-f9a9ec18b6dd",
   "metadata": {},
   "outputs": [],
   "source": [
    "import numpy as np\n",
    "import pandas as pd\n",
    "import os\n",
    "import json\n",
    "import pickle  \n",
    "import copy \n",
    "\n",
    "# User defined files and classes\n",
    "import sys\n",
    "sys.path.append('/Users/maitreyeesharma/WORKSPACE/PostDoc/Chemistry/SPIRAL/codes/RL/ReLMM/scripts/')"
   ]
  },
  {
   "cell_type": "code",
   "execution_count": 3,
   "id": "3771a5d8-ccfd-41cd-9983-ad90a1e0aaea",
   "metadata": {},
   "outputs": [],
   "source": [
    "## Main Function\n",
    "\n",
    "# Reading the input json file with dataset filename and path information\n",
    "with open('inputs.json', \"r\") as f:\n",
    "    input_dict = json.load(f)\n",
    "\n",
    "run_folder = input_dict['RunFolder']\n",
    "input_type = input_dict['InputType']\n",
    "input_path = input_dict['InputPath']\n",
    "input_file = input_dict['InputFile']\n",
    "\n",
    "lookup_df = pickle.load(open(input_path+input_file, 'rb'))\n",
    "lookup_df['cation-electronegativity']=lookup_df['cation-electronegativity'].replace(1.9,2.33)\n",
    "\n",
    "lookup_df.loc[lookup_df['cation'] == 'Ge', 'cation-electronegativity'] = 2.01\n",
    "lookup_df.loc[lookup_df['cation'] == 'Sn', 'cation-electronegativity'] = 1.9\n",
    "lookup_df.to_pickle(\"/Users/maitreyeesharma/WORKSPACE/PostDoc/Chemistry/SPIRAL/codes/RL/ReLMM/\"+\n",
    "                    \"MHP_dataset/perovskites.pkl\") \n",
    "\n",
    "lookup_df.to_csv(\"/Users/maitreyeesharma/WORKSPACE/PostDoc/Chemistry/SPIRAL/codes/RL/ReLMM/\"+\n",
    "                    \"MHP_dataset/perovskites.csv\", index=False) \n",
    "\n"
   ]
  },
  {
   "cell_type": "code",
   "execution_count": null,
   "id": "4e3fe5ec-de83-4abc-9bfb-970677896355",
   "metadata": {},
   "outputs": [],
   "source": []
  }
 ],
 "metadata": {
  "kernelspec": {
   "display_name": "Python 3 (ipykernel)",
   "language": "python",
   "name": "python3"
  },
  "language_info": {
   "codemirror_mode": {
    "name": "ipython",
    "version": 3
   },
   "file_extension": ".py",
   "mimetype": "text/x-python",
   "name": "python",
   "nbconvert_exporter": "python",
   "pygments_lexer": "ipython3",
   "version": "3.11.2"
  }
 },
 "nbformat": 4,
 "nbformat_minor": 5
}
