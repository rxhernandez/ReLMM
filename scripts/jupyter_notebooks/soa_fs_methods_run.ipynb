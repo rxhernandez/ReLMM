{
 "cells": [
  {
   "cell_type": "code",
   "execution_count": 1,
   "id": "8cfc2c24-498e-470d-885d-e280932b21ec",
   "metadata": {},
   "outputs": [],
   "source": [
    "import numpy as np     \n",
    "import pandas as pd\n",
    "import os\n",
    "import random\n",
    "import json\n",
    "import math\n",
    "import time\n",
    "from collections import deque\n",
    "\n",
    "# Sklearn modules\n",
    "from sklearn.metrics import mean_squared_error\n",
    "from sklearn.model_selection import cross_validate\n",
    "from sklearn.model_selection import train_test_split, GridSearchCV\n",
    "from sklearn.model_selection import cross_val_score\n",
    "from sklearn.model_selection import KFold\n",
    "from sklearn.preprocessing import StandardScaler\n",
    "from sklearn.pipeline import Pipeline\n",
    "from sklearn.linear_model import Lasso\n",
    "\n",
    "\n",
    "# np.random.seed(0)\n",
    "# torch.manual_seed(0)    \n",
    "\n",
    "# Plotting libraries\n",
    "import matplotlib as mpl\n",
    "import matplotlib.pyplot as plt\n",
    "%matplotlib inline\n",
    "%load_ext autoreload\n",
    "%autoreload 2\n",
    "\n",
    "# User defined files and classes\n",
    "import sys\n",
    "sys.path.insert(0, '../')\n",
    "from read_data import inputs\n",
    "from predictor_models import predictor_models\n",
    "import utils_dataset as utilsd\n",
    "from soa_fs_methods_class import soa_methods\n",
    "\n",
    "# Tick parameters\n",
    "# Plotting parameters\n",
    "plt.rcParams.update({\n",
    "\"text.usetex\":True,\n",
    "\"font.family\":\"serif\",\n",
    "\"font.serif\":[\"Computer Modern Roman\"]})\n",
    "plt.rcParams['xtick.labelsize'] = 12\n",
    "plt.rcParams['ytick.labelsize'] = 12\n",
    "plt.rcParams['axes.labelsize'] = 12\n",
    "plt.rcParams['axes.titlesize'] = 12\n",
    "plt.rcParams['xtick.major.size'] = 5\n",
    "plt.rcParams['xtick.major.width'] = 1\n",
    "plt.rcParams['xtick.minor.size'] = 3\n",
    "plt.rcParams['xtick.minor.width'] = 1\n",
    "plt.rcParams['ytick.major.size'] = 5\n",
    "plt.rcParams['ytick.major.width'] = 1\n",
    "plt.rcParams['ytick.minor.size'] = 3\n",
    "plt.rcParams['ytick.minor.width'] = 1"
   ]
  },
  {
   "cell_type": "code",
   "execution_count": 2,
   "id": "f890fe8c-9d39-4ce9-8a85-a774dd9d6391",
   "metadata": {},
   "outputs": [
    {
     "name": "stdout",
     "output_type": "stream",
     "text": [
      "Reading data for the input dataset type:  SynthData\n",
      "Reading data for the input dataset type:  SynthData\n",
      "Training score:  0.9769005023080579\n",
      "Mean cross-validation score: 0.72\n",
      "MSE: 0.19\n",
      "RMSE: 0.43\n"
     ]
    },
    {
     "name": "stderr",
     "output_type": "stream",
     "text": [
      "/Users/maitreyeesharma/WORKSPACE/PostDoc/Chemistry/SPIRAL/codes/RL/ReLMM/scripts/jupyter_notebooks/../soa_fs_methods_class.py:115: UserWarning: FixedFormatter should only be used together with FixedLocator\n",
      "  ax.set_yticklabels(descriptors)\n",
      "/Users/maitreyeesharma/WORKSPACE/PostDoc/Chemistry/SPIRAL/codes/RL/ReLMM/scripts/jupyter_notebooks/../soa_fs_methods_class.py:156: UserWarning: FixedFormatter should only be used together with FixedLocator\n",
      "  ax.set_yticklabels(descriptors)\n"
     ]
    },
    {
     "name": "stdout",
     "output_type": "stream",
     "text": [
      "0.18542647221891237\n",
      "1.3791373358683717e-07\n"
     ]
    },
    {
     "data": {
      "image/png": "[encoded data removed]",
      "text/plain": [
       "<Figure size 600x450 with 1 Axes>"
      ]
     },
     "metadata": {},
     "output_type": "display_data"
    },
    {
     "data": {
      "image/png": "[encoded data removed]",
      "text/plain": [
       "<Figure size 600x450 with 1 Axes>"
      ]
     },
     "metadata": {},
     "output_type": "display_data"
    }
   ],
   "source": [
    "run_folder = '/Users/maitreyeesharma/WORKSPACE/PostDoc/Chemistry/SPIRAL/codes/RL/ReLMM/'\n",
    "    \n",
    "## Reading the input json file with dataset filename and path information\n",
    "#with open(run_folder+'inputs.json', \"r\") as f:\n",
    "#    input_dict = json.load(f)\n",
    "\n",
    "#input_type = input_dict['InputType']\n",
    "#input_path = input_dict['InputPath']\n",
    "#input_file = input_dict['InputFile']\n",
    "#output_dir = input_dict['OutputDirectory']\n",
    "\n",
    "input_type='SynthData'\n",
    "input_path='/Users/maitreyeesharma/WORKSPACE/PostDoc/Chemistry/SPIRAL/codes/RL/ReLMM/synthetic_dataset/'\n",
    "input_file='synthetic_data_randomSamples_200_sumf5.csv' \n",
    "test_file='test_synthetic_data_randomSamples_89_sumf5.csv'\n",
    "output_dir=run_folder+'output/soa/'\n",
    "file_name_prefix=output_dir+input_file.split('.csv')[0] \n",
    "\n",
    "input_data = inputs(input_type=input_type,\n",
    "                           input_path=input_path,\n",
    "                           input_file=input_file)\n",
    "\n",
    "X_data, Y_data, descriptors = input_data.read_inputs()\n",
    "X_stand_DT, X_stand_DT_df, scalerX = utilsd.standardize_data(X_data)\n",
    "Y_stand_DT, Y_stand_DT_df, scalerY = utilsd.standardize_data(pd.DataFrame({'target':Y_data[:,0]}))\n",
    "\n",
    "input_data2 = inputs(input_type=input_type,\n",
    "                           input_path=input_path,\n",
    "                           input_file=test_file)\n",
    "X_testdata, Y_testdata, descriptors_test = input_data2.read_inputs()\n",
    "X_test_stand = scalerX.transform(X_testdata)\n",
    "X_test_stand_df = pd.DataFrame(X_test_stand, columns=X_stand_DT_df.columns)\n",
    "Y_test_stand = scalerY.transform(pd.DataFrame({'target':Y_testdata[:,0]}))\n",
    "Y_test_stand_df = pd.DataFrame(Y_test_stand, columns=Y_stand_DT_df.columns)\n",
    "\n",
    "methods = soa_methods(X_stand_DT,Y_stand_DT,X_test=X_test_stand,y_test=Y_test_stand)\n",
    "\n",
    "feature_importance_dict_xgboost, importance_df_xgboost, mse_test_xgboost = methods.xgboost(X_stand_DT, Y_stand_DT, descriptors,\n",
    "                                                                                                   save_fig=False,fig_name=file_name_prefix+'_xgboost.pdf')\n",
    "feature_importance_dict_lasso, importance_df_lasso, mse_test_lasso = methods.lasso(X_stand_DT, Y_stand_DT, descriptors,\n",
    "                                                                                       save_fig=False,fig_name=file_name_prefix+'_lasso.pdf')\n",
    "\n",
    "print(mse_test_xgboost)\n",
    "print(mse_test_lasso)\n",
    "mse_df = pd.DataFrame([[mse_test_xgboost,mse_test_lasso]],columns=['MSE_xgboost','MSE_lasso'])\n",
    "# importance_df_xgboost.to_csv(file_name_prefix+'_xgboost.csv')\n",
    "# importance_df_lasso.to_csv(file_name_prefix+'_lasso.csv')\n",
    "# mse_df.to_csv(file_name_prefix+'_soa_mse_test.csv')\n"
   ]
  },
  {
   "cell_type": "code",
   "execution_count": null,
   "id": "5561211e-e12e-4151-899b-61a37cf822d4",
   "metadata": {},
   "outputs": [],
   "source": []
  },
  {
   "cell_type": "code",
   "execution_count": null,
   "id": "23661aff-9719-4fb6-b5f4-2d9d030bf403",
   "metadata": {},
   "outputs": [],
   "source": []
  }
 ],
 "metadata": {
  "kernelspec": {
   "display_name": "Python 3 (ipykernel)",
   "language": "python",
   "name": "python3"
  },
  "language_info": {
   "codemirror_mode": {
    "name": "ipython",
    "version": 3
   },
   "file_extension": ".py",
   "mimetype": "text/x-python",
   "name": "python",
   "nbconvert_exporter": "python",
   "pygments_lexer": "ipython3",
   "version": "3.11.2"
  }
 },
 "nbformat": 4,
 "nbformat_minor": 5
}
